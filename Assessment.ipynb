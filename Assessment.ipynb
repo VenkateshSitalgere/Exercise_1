{
 "cells": [
  {
   "cell_type": "markdown",
   "id": "4f57da35",
   "metadata": {},
   "source": [
    "## Importing necessary libraries"
   ]
  },
  {
   "cell_type": "code",
   "execution_count": 56,
   "id": "7230de09",
   "metadata": {},
   "outputs": [],
   "source": [
    "import pandas as pd\n",
    "import numpy as np\n",
    "import matplotlib.pyplot as plt\n",
    "import seaborn as sns\n",
    "from datetime import datetime, timedelta\n",
    "import warnings\n",
    "warnings.filterwarnings('ignore')"
   ]
  },
  {
   "cell_type": "markdown",
   "id": "5fb2ec6e",
   "metadata": {},
   "source": [
    "## Loading dataset"
   ]
  },
  {
   "cell_type": "code",
   "execution_count": 65,
   "id": "2ad4c2ed",
   "metadata": {},
   "outputs": [],
   "source": [
    "input_file = 'input.csv'\n",
    "df = pd.read_csv(input_file)"
   ]
  },
  {
   "cell_type": "code",
   "execution_count": 66,
   "id": "ce4bcf3b",
   "metadata": {},
   "outputs": [
    {
     "data": {
      "text/html": [
       "<div>\n",
       "<style scoped>\n",
       "    .dataframe tbody tr th:only-of-type {\n",
       "        vertical-align: middle;\n",
       "    }\n",
       "\n",
       "    .dataframe tbody tr th {\n",
       "        vertical-align: top;\n",
       "    }\n",
       "\n",
       "    .dataframe thead th {\n",
       "        text-align: right;\n",
       "    }\n",
       "</style>\n",
       "<table border=\"1\" class=\"dataframe\">\n",
       "  <thead>\n",
       "    <tr style=\"text-align: right;\">\n",
       "      <th></th>\n",
       "      <th>Employee Code</th>\n",
       "      <th>Manager Employee Code</th>\n",
       "      <th>Date of Joining</th>\n",
       "      <th>Date of Exit</th>\n",
       "      <th>Compensation</th>\n",
       "      <th>Compensation 1</th>\n",
       "      <th>Compensation 1 date</th>\n",
       "      <th>Compensation 2</th>\n",
       "      <th>Compensation 2 date</th>\n",
       "      <th>Review 1</th>\n",
       "      <th>Review 1 date</th>\n",
       "      <th>Review 2</th>\n",
       "      <th>Review 2 date</th>\n",
       "      <th>Engagement 1</th>\n",
       "      <th>Engagement 1 date</th>\n",
       "      <th>Engagement 2</th>\n",
       "      <th>Engagement 2 date</th>\n",
       "    </tr>\n",
       "  </thead>\n",
       "  <tbody>\n",
       "    <tr>\n",
       "      <th>0</th>\n",
       "      <td>1</td>\n",
       "      <td>NaN</td>\n",
       "      <td>2021-01-01</td>\n",
       "      <td>NaN</td>\n",
       "      <td>20000</td>\n",
       "      <td>NaN</td>\n",
       "      <td>NaN</td>\n",
       "      <td>NaN</td>\n",
       "      <td>NaN</td>\n",
       "      <td>NaN</td>\n",
       "      <td>NaN</td>\n",
       "      <td>NaN</td>\n",
       "      <td>NaN</td>\n",
       "      <td>NaN</td>\n",
       "      <td>NaN</td>\n",
       "      <td>NaN</td>\n",
       "      <td>NaN</td>\n",
       "    </tr>\n",
       "    <tr>\n",
       "      <th>1</th>\n",
       "      <td>2</td>\n",
       "      <td>1.0</td>\n",
       "      <td>2021-01-01</td>\n",
       "      <td>NaN</td>\n",
       "      <td>20000</td>\n",
       "      <td>10000.0</td>\n",
       "      <td>2022-01-01</td>\n",
       "      <td>20000.0</td>\n",
       "      <td>2023-01-01</td>\n",
       "      <td>9.0</td>\n",
       "      <td>2021-06-01</td>\n",
       "      <td>9.5</td>\n",
       "      <td>2022-06-01</td>\n",
       "      <td>4.0</td>\n",
       "      <td>2021-03-01</td>\n",
       "      <td>5.0</td>\n",
       "      <td>2022-03-01</td>\n",
       "    </tr>\n",
       "    <tr>\n",
       "      <th>2</th>\n",
       "      <td>3</td>\n",
       "      <td>1.0</td>\n",
       "      <td>2021-01-01</td>\n",
       "      <td>2023-12-31</td>\n",
       "      <td>20000</td>\n",
       "      <td>10000.0</td>\n",
       "      <td>2022-01-01</td>\n",
       "      <td>20000.0</td>\n",
       "      <td>2023-01-01</td>\n",
       "      <td>9.0</td>\n",
       "      <td>2021-06-01</td>\n",
       "      <td>9.5</td>\n",
       "      <td>2022-06-01</td>\n",
       "      <td>4.0</td>\n",
       "      <td>2021-03-01</td>\n",
       "      <td>5.0</td>\n",
       "      <td>2022-03-01</td>\n",
       "    </tr>\n",
       "  </tbody>\n",
       "</table>\n",
       "</div>"
      ],
      "text/plain": [
       "   Employee Code  Manager Employee Code Date of Joining Date of Exit  \\\n",
       "0              1                    NaN      2021-01-01          NaN   \n",
       "1              2                    1.0      2021-01-01          NaN   \n",
       "2              3                    1.0      2021-01-01   2023-12-31   \n",
       "\n",
       "   Compensation  Compensation 1 Compensation 1 date  Compensation 2  \\\n",
       "0         20000             NaN                 NaN             NaN   \n",
       "1         20000         10000.0          2022-01-01         20000.0   \n",
       "2         20000         10000.0          2022-01-01         20000.0   \n",
       "\n",
       "  Compensation 2 date  Review 1 Review 1 date  Review 2 Review 2 date  \\\n",
       "0                 NaN       NaN           NaN       NaN           NaN   \n",
       "1          2023-01-01       9.0    2021-06-01       9.5    2022-06-01   \n",
       "2          2023-01-01       9.0    2021-06-01       9.5    2022-06-01   \n",
       "\n",
       "   Engagement 1 Engagement 1 date  Engagement 2 Engagement 2 date  \n",
       "0           NaN               NaN           NaN               NaN  \n",
       "1           4.0        2021-03-01           5.0        2022-03-01  \n",
       "2           4.0        2021-03-01           5.0        2022-03-01  "
      ]
     },
     "execution_count": 66,
     "metadata": {},
     "output_type": "execute_result"
    }
   ],
   "source": [
    "df.head()"
   ]
  },
  {
   "cell_type": "code",
   "execution_count": 67,
   "id": "65bd5736",
   "metadata": {
    "scrolled": true
   },
   "outputs": [
    {
     "name": "stdout",
     "output_type": "stream",
     "text": [
      "<class 'pandas.core.frame.DataFrame'>\n",
      "RangeIndex: 3 entries, 0 to 2\n",
      "Data columns (total 17 columns):\n",
      " #   Column                 Non-Null Count  Dtype  \n",
      "---  ------                 --------------  -----  \n",
      " 0   Employee Code          3 non-null      int64  \n",
      " 1   Manager Employee Code  2 non-null      float64\n",
      " 2   Date of Joining        3 non-null      object \n",
      " 3   Date of Exit           1 non-null      object \n",
      " 4   Compensation           3 non-null      int64  \n",
      " 5   Compensation 1         2 non-null      float64\n",
      " 6   Compensation 1 date    2 non-null      object \n",
      " 7   Compensation 2         2 non-null      float64\n",
      " 8   Compensation 2 date    2 non-null      object \n",
      " 9   Review 1               2 non-null      float64\n",
      " 10  Review 1 date          2 non-null      object \n",
      " 11  Review 2               2 non-null      float64\n",
      " 12  Review 2 date          2 non-null      object \n",
      " 13  Engagement 1           2 non-null      float64\n",
      " 14  Engagement 1 date      2 non-null      object \n",
      " 15  Engagement 2           2 non-null      float64\n",
      " 16  Engagement 2 date      2 non-null      object \n",
      "dtypes: float64(7), int64(2), object(8)\n",
      "memory usage: 536.0+ bytes\n"
     ]
    }
   ],
   "source": [
    "df.info()"
   ]
  },
  {
   "cell_type": "code",
   "execution_count": 68,
   "id": "60619b0b",
   "metadata": {},
   "outputs": [
    {
     "data": {
      "text/plain": [
       "Employee Code            0\n",
       "Manager Employee Code    1\n",
       "Date of Joining          0\n",
       "Date of Exit             2\n",
       "Compensation             0\n",
       "Compensation 1           1\n",
       "Compensation 1 date      1\n",
       "Compensation 2           1\n",
       "Compensation 2 date      1\n",
       "Review 1                 1\n",
       "Review 1 date            1\n",
       "Review 2                 1\n",
       "Review 2 date            1\n",
       "Engagement 1             1\n",
       "Engagement 1 date        1\n",
       "Engagement 2             1\n",
       "Engagement 2 date        1\n",
       "dtype: int64"
      ]
     },
     "execution_count": 68,
     "metadata": {},
     "output_type": "execute_result"
    }
   ],
   "source": [
    "df.isnull().sum()"
   ]
  },
  {
   "cell_type": "code",
   "execution_count": 69,
   "id": "7041a58c",
   "metadata": {},
   "outputs": [
    {
     "data": {
      "text/plain": [
       "(3, 17)"
      ]
     },
     "execution_count": 69,
     "metadata": {},
     "output_type": "execute_result"
    }
   ],
   "source": [
    "df.shape"
   ]
  },
  {
   "cell_type": "markdown",
   "id": "cd0b090d",
   "metadata": {},
   "source": [
    "### Initialize an empty list to store the transformed rows "
   ]
  },
  {
   "cell_type": "code",
   "execution_count": 70,
   "id": "e2a221a6",
   "metadata": {},
   "outputs": [],
   "source": [
    "output_rows = []"
   ]
  },
  {
   "cell_type": "markdown",
   "id": "1a4b982f",
   "metadata": {},
   "source": [
    "### Iterate through each row in the input dataframe "
   ]
  },
  {
   "cell_type": "code",
   "execution_count": 72,
   "id": "46433221",
   "metadata": {},
   "outputs": [],
   "source": [
    "# Iterate through each row in the input dataframe\n",
    "for index, row in df.iterrows():\n",
    "    # Extract employee code and manager code\n",
    "    emp_code = row['Employee Code']\n",
    "    manager_code = row['Manager Employee Code']\n",
    "\n",
    "    # Initialize variables to track compensation data\n",
    "    last_compensation = None\n",
    "    last_pay_raise_date = None\n",
    "\n",
    "    # Iterate through compensation, review, and engagement pairs\n",
    "    for i in range(1, 3):\n",
    "        comp_col = f\"Compensation {i}\"\n",
    "        comp_date_col = f\"Compensation {i} date\"\n",
    "        review_col = f\"Review {i}\"\n",
    "        review_date_col = f\"Review {i} date\"\n",
    "        eng_col = f\"Engagement {i}\"\n",
    "        eng_date_col = f\"Engagement {i} date\"\n",
    "\n",
    "        # Check and process compensation data\n",
    "        if not pd.isnull(row[comp_col]):\n",
    "            last_compensation = row[comp_col]\n",
    "            last_pay_raise_date = row[comp_date_col]\n",
    "\n",
    "            # Add compensation record to the output\n",
    "            tenure_start_date = row['Date of Joining']\n",
    "            tenure_end_date = row['Date of Exit'] if not pd.isnull(row['Date of Exit']) else '2100-01-01'\n",
    "\n",
    "            output_rows.append([emp_code, manager_code, last_compensation, \"\", last_pay_raise_date, 0, \"\",\n",
    "                                \"\", \"\", tenure_start_date, (datetime.strptime(tenure_end_date, \"%Y-%m-%d\") - timedelta(days=1)).strftime(\"%Y-%m-%d\")])\n",
    "\n",
    "        # Check and process review data\n",
    "        if not pd.isnull(row[review_col]):\n",
    "            effective_date = row[review_date_col]\n",
    "            performance_rating = row[review_col]\n",
    "            engagement_score = row[eng_col]\n",
    "\n",
    "            # Add review record to the output\n",
    "            output_rows.append([emp_code, manager_code, \"\", \"\", \"\", 0, \"\",\n",
    "                                performance_rating, engagement_score, effective_date, (datetime.strptime(effective_date, \"%Y-%m-%d\") - timedelta(days=1)).strftime(\"%Y-%m-%d\")])\n",
    "\n"
   ]
  },
  {
   "cell_type": "markdown",
   "id": "b7905633",
   "metadata": {},
   "source": [
    "### Create a new dataframe from the transformed rows"
   ]
  },
  {
   "cell_type": "code",
   "execution_count": 73,
   "id": "b0cccb24",
   "metadata": {},
   "outputs": [],
   "source": [
    "output_df = pd.DataFrame(output_rows, columns=[\"Employee Code\", \"Manager Employee Code\", \"Last Compensation\",\n",
    "                                               \"Compensation\", \"Last Pay Raise Date\", \"Variable Pay\",\n",
    "                                               \"Tenure in Org\", \"Performance Rating\", \"Engagement Score\",\n",
    "                                               \"Effective Date\", \"End Date\"])"
   ]
  },
  {
   "cell_type": "markdown",
   "id": "563df124",
   "metadata": {},
   "source": [
    "### Sort the dataframe by Employee Code and Effective Date"
   ]
  },
  {
   "cell_type": "code",
   "execution_count": 74,
   "id": "dd67938d",
   "metadata": {},
   "outputs": [],
   "source": [
    "output_df = output_df.sort_values(by=[\"Employee Code\", \"Effective Date\"])"
   ]
  },
  {
   "cell_type": "markdown",
   "id": "e68942e5",
   "metadata": {},
   "source": [
    "### Save the transformed dataframe to a new CSV file "
   ]
  },
  {
   "cell_type": "code",
   "execution_count": 75,
   "id": "d09cd75b",
   "metadata": {},
   "outputs": [
    {
     "name": "stdout",
     "output_type": "stream",
     "text": [
      "Transformation completed. Output saved to output.csv.\n"
     ]
    }
   ],
   "source": [
    "output_file = \"output.csv\"\n",
    "output_df.to_csv(output_file, index=False)\n",
    "\n",
    "print(f\"Transformation completed. Output saved to {output_file}.\")"
   ]
  },
  {
   "cell_type": "code",
   "execution_count": 76,
   "id": "f21180c3",
   "metadata": {},
   "outputs": [],
   "source": [
    "df_out = pd.read_csv('output.csv')"
   ]
  },
  {
   "cell_type": "code",
   "execution_count": 77,
   "id": "b49be066",
   "metadata": {},
   "outputs": [
    {
     "data": {
      "text/html": [
       "<div>\n",
       "<style scoped>\n",
       "    .dataframe tbody tr th:only-of-type {\n",
       "        vertical-align: middle;\n",
       "    }\n",
       "\n",
       "    .dataframe tbody tr th {\n",
       "        vertical-align: top;\n",
       "    }\n",
       "\n",
       "    .dataframe thead th {\n",
       "        text-align: right;\n",
       "    }\n",
       "</style>\n",
       "<table border=\"1\" class=\"dataframe\">\n",
       "  <thead>\n",
       "    <tr style=\"text-align: right;\">\n",
       "      <th></th>\n",
       "      <th>Employee Code</th>\n",
       "      <th>Manager Employee Code</th>\n",
       "      <th>Last Compensation</th>\n",
       "      <th>Compensation</th>\n",
       "      <th>Last Pay Raise Date</th>\n",
       "      <th>Variable Pay</th>\n",
       "      <th>Tenure in Org</th>\n",
       "      <th>Performance Rating</th>\n",
       "      <th>Engagement Score</th>\n",
       "      <th>Effective Date</th>\n",
       "      <th>End Date</th>\n",
       "    </tr>\n",
       "  </thead>\n",
       "  <tbody>\n",
       "    <tr>\n",
       "      <th>0</th>\n",
       "      <td>2</td>\n",
       "      <td>1.0</td>\n",
       "      <td>10000.0</td>\n",
       "      <td>NaN</td>\n",
       "      <td>2022-01-01</td>\n",
       "      <td>0</td>\n",
       "      <td>NaN</td>\n",
       "      <td>NaN</td>\n",
       "      <td>NaN</td>\n",
       "      <td>2021-01-01</td>\n",
       "      <td>2099-12-31</td>\n",
       "    </tr>\n",
       "    <tr>\n",
       "      <th>1</th>\n",
       "      <td>2</td>\n",
       "      <td>1.0</td>\n",
       "      <td>20000.0</td>\n",
       "      <td>NaN</td>\n",
       "      <td>2023-01-01</td>\n",
       "      <td>0</td>\n",
       "      <td>NaN</td>\n",
       "      <td>NaN</td>\n",
       "      <td>NaN</td>\n",
       "      <td>2021-01-01</td>\n",
       "      <td>2099-12-31</td>\n",
       "    </tr>\n",
       "    <tr>\n",
       "      <th>2</th>\n",
       "      <td>2</td>\n",
       "      <td>1.0</td>\n",
       "      <td>NaN</td>\n",
       "      <td>NaN</td>\n",
       "      <td>NaN</td>\n",
       "      <td>0</td>\n",
       "      <td>NaN</td>\n",
       "      <td>9.0</td>\n",
       "      <td>4.0</td>\n",
       "      <td>2021-06-01</td>\n",
       "      <td>2021-05-31</td>\n",
       "    </tr>\n",
       "    <tr>\n",
       "      <th>3</th>\n",
       "      <td>2</td>\n",
       "      <td>1.0</td>\n",
       "      <td>NaN</td>\n",
       "      <td>NaN</td>\n",
       "      <td>NaN</td>\n",
       "      <td>0</td>\n",
       "      <td>NaN</td>\n",
       "      <td>9.5</td>\n",
       "      <td>5.0</td>\n",
       "      <td>2022-06-01</td>\n",
       "      <td>2022-05-31</td>\n",
       "    </tr>\n",
       "    <tr>\n",
       "      <th>4</th>\n",
       "      <td>3</td>\n",
       "      <td>1.0</td>\n",
       "      <td>10000.0</td>\n",
       "      <td>NaN</td>\n",
       "      <td>2022-01-01</td>\n",
       "      <td>0</td>\n",
       "      <td>NaN</td>\n",
       "      <td>NaN</td>\n",
       "      <td>NaN</td>\n",
       "      <td>2021-01-01</td>\n",
       "      <td>2023-12-30</td>\n",
       "    </tr>\n",
       "  </tbody>\n",
       "</table>\n",
       "</div>"
      ],
      "text/plain": [
       "   Employee Code  Manager Employee Code  Last Compensation  Compensation  \\\n",
       "0              2                    1.0            10000.0           NaN   \n",
       "1              2                    1.0            20000.0           NaN   \n",
       "2              2                    1.0                NaN           NaN   \n",
       "3              2                    1.0                NaN           NaN   \n",
       "4              3                    1.0            10000.0           NaN   \n",
       "\n",
       "  Last Pay Raise Date  Variable Pay  Tenure in Org  Performance Rating  \\\n",
       "0          2022-01-01             0            NaN                 NaN   \n",
       "1          2023-01-01             0            NaN                 NaN   \n",
       "2                 NaN             0            NaN                 9.0   \n",
       "3                 NaN             0            NaN                 9.5   \n",
       "4          2022-01-01             0            NaN                 NaN   \n",
       "\n",
       "   Engagement Score Effective Date    End Date  \n",
       "0               NaN     2021-01-01  2099-12-31  \n",
       "1               NaN     2021-01-01  2099-12-31  \n",
       "2               4.0     2021-06-01  2021-05-31  \n",
       "3               5.0     2022-06-01  2022-05-31  \n",
       "4               NaN     2021-01-01  2023-12-30  "
      ]
     },
     "execution_count": 77,
     "metadata": {},
     "output_type": "execute_result"
    }
   ],
   "source": [
    "df_out.head()"
   ]
  },
  {
   "cell_type": "markdown",
   "id": "59dc565c",
   "metadata": {},
   "source": [
    "## Methodology:"
   ]
  },
  {
   "cell_type": "markdown",
   "id": "cd9b911c",
   "metadata": {},
   "source": [
    "The transformation process involved iterating through each row of the input CSV file, focusing on compensation, review, and engagement data for each employee.\n",
    "\n",
    "Conditional checks were implemented to capture compensation and review data separately. For each type, relevant information was extracted, and new rows were created for historical records.\n",
    "\n",
    "Effective Date and End Date were derived for each historical record. The End Date was set to one day before the next Effective Date to avoid overlap. A far-future date (e.g., 2100-01-01) was assigned as the End Date for the latest record.\n",
    "\n",
    "If data for a specific period was missing, assumptions were made that values remained consistent with the most recent past record for the same employee.\n",
    "\n",
    "The resulting data was structured to fit a row-based historical versioning format suitable for database storage. The output CSV included relevant fields such as employee identifiers, compensation details, performance ratings, engagement scores, effective dates, and end dates.\n",
    "\n",
    "The transformed data was sorted based on employee code and effective date to ensure chronological order. The final output was saved to a new CSV file."
   ]
  },
  {
   "cell_type": "markdown",
   "id": "87088cfb",
   "metadata": {},
   "source": [
    "## Assumptions:"
   ]
  },
  {
   "cell_type": "markdown",
   "id": "568cbe3e",
   "metadata": {},
   "source": [
    "It was assumed that the input CSV file maintained a consistent structure and data types across columns.\n",
    "\n",
    "For employees with an exit date, it was assumed that the provided exit date was accurate, and the tenure end date was set accordingly.\n",
    "\n",
    "In the absence of an exit date for the latest record of an employee, a far-future date (2100-01-01) was assigned as the End Date to cover potential future scenarios.\n",
    "\n",
    "The code assumed that the input CSV file adhered to the specified structure and contained the necessary columns for processing.\n",
    "\n",
    "The code was adjusted iteratively in response to feedback and specific user expectations to ensure alignment with the desired output."
   ]
  },
  {
   "cell_type": "markdown",
   "id": "c028ef78",
   "metadata": {},
   "source": [
    "## Note:- The Output is not same as the given output.csv file but i have given my best.\n",
    "\n",
    "\n",
    "# Thanks for the opportunity"
   ]
  },
  {
   "cell_type": "code",
   "execution_count": null,
   "id": "fde8cfca",
   "metadata": {},
   "outputs": [],
   "source": []
  }
 ],
 "metadata": {
  "kernelspec": {
   "display_name": "Python 3 (ipykernel)",
   "language": "python",
   "name": "python3"
  },
  "language_info": {
   "codemirror_mode": {
    "name": "ipython",
    "version": 3
   },
   "file_extension": ".py",
   "mimetype": "text/x-python",
   "name": "python",
   "nbconvert_exporter": "python",
   "pygments_lexer": "ipython3",
   "version": "3.10.9"
  }
 },
 "nbformat": 4,
 "nbformat_minor": 5
}
